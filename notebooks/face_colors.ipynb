{
 "cells": [
  {
   "cell_type": "code",
   "execution_count": null,
   "id": "d0e22291-dc81-443f-bade-036826d85762",
   "metadata": {
    "tags": []
   },
   "outputs": [],
   "source": [
    "import matplotlib\n",
    "from itertools import product\n",
    "\n",
    "import numpy as np\n",
    "import pandas as pd\n",
    "import matplotlib.pyplot as plt\n",
    "import seaborn as sns"
   ]
  },
  {
   "cell_type": "code",
   "execution_count": null,
   "id": "390d2db1-29e7-47b6-8a46-1b31c6c71d9d",
   "metadata": {
    "tags": []
   },
   "outputs": [],
   "source": [
    "SRC_PATH = \"../data/celebrities_seasons_colors.parquet\""
   ]
  },
  {
   "cell_type": "code",
   "execution_count": null,
   "id": "28d8a3ec-96e8-4b04-9da4-8b4cfafd14e2",
   "metadata": {
    "tags": []
   },
   "outputs": [],
   "source": [
    "df = pd.read_parquet(SRC_PATH)\n",
    "df.head()"
   ]
  },
  {
   "cell_type": "code",
   "execution_count": null,
   "id": "6afc02c9-75cb-42d8-86ef-b70110defeb2",
   "metadata": {
    "tags": []
   },
   "outputs": [],
   "source": [
    "df[\"macro_label\"] = df[\"src_path\"].apply(lambda s: s.split(\"/\")[2].split(\"-\")[1])"
   ]
  },
  {
   "cell_type": "code",
   "execution_count": null,
   "id": "9d6cbb8b-d107-4ebf-a15f-bb97b80f8304",
   "metadata": {
    "tags": []
   },
   "outputs": [],
   "source": [
    "REGIONS = [\"face\"]\n",
    "FEATURES = [f\"{r}-{c}\" for r, c in product(REGIONS, (\"h\", \"s\", \"v\"))]\n",
    "g = sns.PairGrid(df[FEATURES + [\"macro_label\"]], hue=\"macro_label\")\n",
    "g.map_diag(sns.histplot, kde=True)\n",
    "g.map_offdiag(sns.scatterplot)\n",
    "g.add_legend()"
   ]
  },
  {
   "cell_type": "code",
   "execution_count": null,
   "id": "9cbd388e-1d24-4e50-90d7-0d0e7bfa7801",
   "metadata": {
    "tags": []
   },
   "outputs": [],
   "source": [
    "df[\"sin-face-h\"] = np.sin(df[\"face-h\"] * 2 * np.pi)"
   ]
  },
  {
   "cell_type": "code",
   "execution_count": null,
   "id": "f674caf1-01f4-4c51-8da1-85921a758af1",
   "metadata": {
    "tags": []
   },
   "outputs": [],
   "source": [
    "REGIONS = [\"face\"]\n",
    "FEATURES = [f\"{r}-{c}\" for r, c in product(REGIONS, (\"h\", \"s\", \"v\"))]\n",
    "del FEATURES[FEATURES.index(\"face-h\")]\n",
    "FEATURES += [\"sin-face-h\"]\n",
    "g = sns.PairGrid(df[FEATURES + [\"macro_label\"]], hue=\"macro_label\")\n",
    "g.map_diag(sns.histplot, kde=True)\n",
    "g.map_offdiag(sns.scatterplot)\n",
    "g.add_legend()"
   ]
  },
  {
   "cell_type": "code",
   "execution_count": null,
   "id": "8f31fc89-e705-4800-8985-009d894bb7b7",
   "metadata": {
    "tags": []
   },
   "outputs": [],
   "source": [
    "from sklearn.feature_selection import f_classif\n",
    "\n",
    "_, np_p_values = f_classif(df[FEATURES], df[\"macro_label\"])\n",
    "p_values_f_test = pd.Series(\n",
    "    {FEATURES[i]: p for i, p in enumerate(f_classif(df[FEATURES], df[\"macro_label\"])[-1])}\n",
    ").to_frame()\n",
    "p_values_f_test.columns = [\"p_value\"]\n",
    "sns.heatmap(\n",
    "    p_values_f_test, \n",
    "    annot=True\n",
    ")"
   ]
  },
  {
   "cell_type": "code",
   "execution_count": null,
   "id": "46b7bdf3-aa0d-4209-872e-cf61b8a42b7b",
   "metadata": {
    "tags": []
   },
   "outputs": [],
   "source": [
    "from scipy.stats import normaltest\n",
    "\n",
    "p_values_normality = df[FEATURES + [\"macro_label\"]].groupby(\"macro_label\").apply(\n",
    "    lambda x: pd.Series(\n",
    "        {FEATURES[i]: p for i, p in enumerate(normaltest(x)[-1])}\n",
    "    )\n",
    ")\n",
    "sns.heatmap(\n",
    "    p_values_normality, \n",
    "    annot=True\n",
    ")"
   ]
  },
  {
   "cell_type": "code",
   "execution_count": null,
   "id": "5810c402-f5b8-427d-b444-6103aff666d7",
   "metadata": {
    "tags": []
   },
   "outputs": [],
   "source": [
    "# Compute the correlation matrix\n",
    "corr = df[FEATURES].corr()\n",
    "sns.heatmap(\n",
    "    corr, \n",
    "    annot=True\n",
    ")"
   ]
  },
  {
   "cell_type": "code",
   "execution_count": null,
   "id": "5d7f8350-ef0c-44b7-b8e3-9da34f33b071",
   "metadata": {
    "tags": []
   },
   "outputs": [],
   "source": [
    "from sklearn.metrics import silhouette_score\n",
    "\n",
    "silhouette_score(df[FEATURES], df[\"macro_label\"])"
   ]
  },
  {
   "cell_type": "code",
   "execution_count": null,
   "id": "ad174d2d-26e8-4822-871c-d260d05458ff",
   "metadata": {
    "tags": []
   },
   "outputs": [],
   "source": [
    "from sklearn.cluster import KMeans\n",
    "from tqdm.notebook import tqdm\n",
    "\n",
    "\n",
    "X = np.random.rand(1000, 2)\n",
    "kmeans = KMeans(4)\n",
    "y = kmeans.fit_predict(X)\n",
    "silhouette_score(X, y)"
   ]
  },
  {
   "cell_type": "code",
   "execution_count": null,
   "id": "9360b8aa-d025-4e26-839b-cd431490dd0c",
   "metadata": {
    "tags": []
   },
   "outputs": [],
   "source": [
    "y = (4 * np.random.rand(1000, 1).ravel()).astype(int)\n",
    "silhouette_score(X, y)"
   ]
  },
  {
   "cell_type": "code",
   "execution_count": null,
   "id": "81f7896b-5afe-4d28-8906-e67853bb42f5",
   "metadata": {
    "tags": []
   },
   "outputs": [],
   "source": [
    "from sklearn.model_selection import train_test_split\n",
    "from sklearn.metrics import classification_report\n",
    "from sklearn.metrics import ConfusionMatrixDisplay\n",
    "\n",
    "FEATURES = [\"face-v\", \"sin-face-h\"]\n",
    "train_df, test_df = train_test_split(df, test_size=0.3, random_state=42, stratify=df[\"macro_label\"], shuffle=True)\n",
    "np_train = train_df[FEATURES].values\n",
    "np_test = test_df[FEATURES].values"
   ]
  },
  {
   "cell_type": "code",
   "execution_count": null,
   "id": "e2157c0a-d0ad-458c-8c0c-aa0d8193ed6c",
   "metadata": {
    "tags": []
   },
   "outputs": [],
   "source": [
    "def evaluate_model(clf, train_df, test_df, label: str):\n",
    "    np_train = train_df[FEATURES].values\n",
    "    np_test = test_df[FEATURES].values\n",
    "    clf.fit(np_train, train_df[label])\n",
    "    print(\"Train report\")\n",
    "    train_pred = clf.predict(np_train)\n",
    "    print(classification_report(train_df[label], train_pred))\n",
    "    ConfusionMatrixDisplay.from_predictions(train_df[label], train_pred)\n",
    "    print(\"Test report\")\n",
    "    test_pred = clf.predict(np_test)\n",
    "    print(classification_report(test_df[label], test_pred))\n",
    "    ConfusionMatrixDisplay.from_predictions(test_df[label], test_pred)"
   ]
  },
  {
   "cell_type": "code",
   "execution_count": null,
   "id": "7bf19575-25cd-4e51-b180-32b24de60ace",
   "metadata": {},
   "outputs": [],
   "source": [
    "from sklearn.naive_bayes import GaussianNB\n",
    "\n",
    "gnb = GaussianNB()\n",
    "\n",
    "evaluate_model(gnb, train_df, test_df, \"macro_label\")"
   ]
  },
  {
   "cell_type": "code",
   "execution_count": null,
   "id": "66a9f112-3b68-47c4-b3ee-174f554a5f62",
   "metadata": {
    "tags": []
   },
   "outputs": [],
   "source": [
    "from sklearn.svm import LinearSVC\n",
    "\n",
    "svc = LinearSVC()\n",
    "evaluate_model(svc, train_df, test_df, \"macro_label\")"
   ]
  },
  {
   "cell_type": "code",
   "execution_count": null,
   "id": "ecf19422-6ba6-467c-98e9-2f9f4d1f7752",
   "metadata": {
    "tags": []
   },
   "outputs": [],
   "source": [
    "FEATURES"
   ]
  },
  {
   "cell_type": "code",
   "execution_count": null,
   "id": "d8bb3097-a496-4859-9143-7de33299c75e",
   "metadata": {
    "tags": []
   },
   "outputs": [],
   "source": [
    "from sklearn.inspection import DecisionBoundaryDisplay\n",
    "\n",
    "# Settings for plotting\n",
    "if ax is None:\n",
    "    _, ax = plt.subplots(figsize=(4, 3))\n",
    "x_min, x_max, y_min, y_max = -3, 3, -3, 3\n",
    "ax.set(xlim=(x_min, x_max), ylim=(y_min, y_max))\n",
    "\n",
    "# Plot decision boundary and margins\n",
    "common_params = {\"estimator\": svc, \"X\": train_df[FEATURES], \"ax\": ax}\n",
    "DecisionBoundaryDisplay.from_estimator(\n",
    "    **common_params,\n",
    "    response_method=\"predict\",\n",
    "    plot_method=\"pcolormesh\",\n",
    "    alpha=0.3,\n",
    ")\n",
    "DecisionBoundaryDisplay.from_estimator(\n",
    "    **common_params,\n",
    "    response_method=\"decision_function\",\n",
    "    plot_method=\"contour\",\n",
    "    levels=[-1, 0, 1],\n",
    "    colors=[\"k\", \"k\", \"k\"],\n",
    "    linestyles=[\"--\", \"-\", \"--\"],\n",
    ")\n",
    "\n",
    "if support_vectors:\n",
    "    # Plot bigger circles around samples that serve as support vectors\n",
    "    ax.scatter(\n",
    "        clf.support_vectors_[:, 0],\n",
    "        clf.support_vectors_[:, 1],\n",
    "        s=150,\n",
    "        facecolors=\"none\",\n",
    "        edgecolors=\"k\",\n",
    "    )\n",
    "\n",
    "# Plot samples by color and add legend\n",
    "ax.scatter(X[:, 0], X[:, 1], c=y, s=30, edgecolors=\"k\")\n",
    "ax.legend(*scatter.legend_elements(), loc=\"upper right\", title=\"Classes\")\n",
    "if long_title:\n",
    "    ax.set_title(f\" Decision boundaries of {kernel} kernel in SVC\")\n",
    "else:\n",
    "    ax.set_title(kernel)\n",
    "\n",
    "if ax is None:\n",
    "    plt.show()"
   ]
  },
  {
   "cell_type": "code",
   "execution_count": null,
   "id": "bfb06b12-88c3-4e16-8f3f-be1491b69b11",
   "metadata": {},
   "outputs": [],
   "source": []
  }
 ],
 "metadata": {
  "environment": {
   "kernel": "python3",
   "name": "common-cpu.m122",
   "type": "gcloud",
   "uri": "us-docker.pkg.dev/deeplearning-platform-release/gcr.io/base-cpu:m122"
  },
  "kernelspec": {
   "display_name": "Python 3 (Local)",
   "language": "python",
   "name": "python3"
  },
  "language_info": {
   "codemirror_mode": {
    "name": "ipython",
    "version": 3
   },
   "file_extension": ".py",
   "mimetype": "text/x-python",
   "name": "python",
   "nbconvert_exporter": "python",
   "pygments_lexer": "ipython3",
   "version": "3.10.14"
  }
 },
 "nbformat": 4,
 "nbformat_minor": 5
}
