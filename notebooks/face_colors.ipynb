{
 "cells": [
  {
   "cell_type": "code",
   "execution_count": null,
   "id": "d0e22291-dc81-443f-bade-036826d85762",
   "metadata": {
    "tags": []
   },
   "outputs": [],
   "source": [
    "from itertools import product, chain\n",
    "import json\n",
    "\n",
    "import numpy as np\n",
    "import pandas as pd\n",
    "import matplotlib.pyplot as plt\n",
    "import seaborn as sns"
   ]
  },
  {
   "cell_type": "code",
   "execution_count": null,
   "id": "390d2db1-29e7-47b6-8a46-1b31c6c71d9d",
   "metadata": {
    "tags": []
   },
   "outputs": [],
   "source": [
    "SRC_PATH = \"../data/lfw-colors.parquet\"\n",
    "CELEBS_SEASONS_PATH = \"../data/celebrities.json\""
   ]
  },
  {
   "cell_type": "code",
   "execution_count": null,
   "id": "c3b8460b-930a-4b4d-96a4-1403e47e9c32",
   "metadata": {
    "tags": []
   },
   "outputs": [],
   "source": [
    "with open(CELEBS_SEASONS_PATH) as fid:\n",
    "    celebs_seasons = json.load(fid)\n",
    "\n",
    "celebs_seasons_list = list(chain(*[\n",
    "    [{\"season\": season, \"name\": celeb.lower()} for celeb in celebs]\n",
    "    for season, celebs in celebs_seasons.items()    \n",
    "]))\n",
    "df_celebs_seasons = pd.DataFrame(celebs_seasons_list)\n",
    "df_celebs_seasons.head()"
   ]
  },
  {
   "cell_type": "code",
   "execution_count": null,
   "id": "2e1ca935-cfdb-4219-be30-971fa45a401f",
   "metadata": {
    "tags": []
   },
   "outputs": [],
   "source": [
    "df_colors = pd.read_parquet(SRC_PATH)\n",
    "# filter of the images with multiple detected images\n",
    "df_colors_w_count = df_colors.merge(df_colors[\"src_path\"].value_counts().to_frame().reset_index(), on=\"src_path\")\n",
    "df_colors_filtered = df_colors_w_count.loc[df_colors_w_count[\"count\"] == 1, :].drop(columns=\"count\")\n",
    "df_colors_filtered[\"name\"] = df_colors_filtered[\"src_path\"].str.lower().str.replace(\n",
    "    \"_\", \n",
    "    \" \"\n",
    ").str.extract(\n",
    "    \"data/lfw-deepfunneled/([a-z ]+)/.*\"\n",
    ")\n",
    "df_colors_filtered.head()"
   ]
  },
  {
   "cell_type": "code",
   "execution_count": null,
   "id": "e9faa994-bb74-48c5-8fc0-2541644c414f",
   "metadata": {
    "tags": []
   },
   "outputs": [],
   "source": [
    "df = df_colors_filtered.merge(df_celebs_seasons, on=\"name\")\n",
    "len(df)"
   ]
  },
  {
   "cell_type": "code",
   "execution_count": null,
   "id": "6afc02c9-75cb-42d8-86ef-b70110defeb2",
   "metadata": {
    "tags": []
   },
   "outputs": [],
   "source": [
    "df[\"macroseason\"] = df[\"season\"].apply(lambda s: s.split(\"-\")[1])\n",
    "df[\"macroseason\"].value_counts()"
   ]
  },
  {
   "cell_type": "code",
   "execution_count": null,
   "id": "9d6cbb8b-d107-4ebf-a15f-bb97b80f8304",
   "metadata": {
    "tags": []
   },
   "outputs": [],
   "source": [
    "REGIONS = [\"face\"]\n",
    "FEATURES = [f\"{r}-{c}\" for r, c in product(REGIONS, (\"h\", \"s\", \"v\"))]\n",
    "g = sns.PairGrid(df[FEATURES + [\"macroseason\"]], hue=\"macroseason\")\n",
    "g.map_diag(sns.histplot, kde=True)\n",
    "g.map_offdiag(sns.scatterplot)\n",
    "g.add_legend()"
   ]
  },
  {
   "cell_type": "code",
   "execution_count": null,
   "id": "9cbd388e-1d24-4e50-90d7-0d0e7bfa7801",
   "metadata": {
    "tags": []
   },
   "outputs": [],
   "source": [
    "df[\"sin-face-h\"] = np.sin(df[\"face-h\"] * 2 * np.pi)"
   ]
  },
  {
   "cell_type": "code",
   "execution_count": null,
   "id": "f674caf1-01f4-4c51-8da1-85921a758af1",
   "metadata": {
    "tags": []
   },
   "outputs": [],
   "source": [
    "REGIONS = [\"face\"]\n",
    "FEATURES = [f\"{r}-{c}\" for r, c in product(REGIONS, (\"h\", \"s\", \"v\"))]\n",
    "del FEATURES[FEATURES.index(\"face-h\")]\n",
    "FEATURES += [\"sin-face-h\"]\n",
    "g = sns.PairGrid(df[FEATURES + [\"macroseason\"]], hue=\"macroseason\")\n",
    "g.map_diag(sns.histplot, kde=True)\n",
    "g.map_offdiag(sns.scatterplot)\n",
    "g.add_legend()"
   ]
  },
  {
   "cell_type": "code",
   "execution_count": null,
   "id": "8f31fc89-e705-4800-8985-009d894bb7b7",
   "metadata": {
    "tags": []
   },
   "outputs": [],
   "source": [
    "from sklearn.feature_selection import f_classif\n",
    "\n",
    "_, np_p_values = f_classif(df[FEATURES], df[\"macroseason\"])\n",
    "p_values_f_test = pd.Series(\n",
    "    {FEATURES[i]: p for i, p in enumerate(f_classif(df[FEATURES], df[\"macroseason\"])[-1])}\n",
    ").to_frame()\n",
    "p_values_f_test.columns = [\"p_value\"]\n",
    "sns.heatmap(\n",
    "    p_values_f_test, \n",
    "    annot=True\n",
    ")"
   ]
  },
  {
   "cell_type": "code",
   "execution_count": null,
   "id": "46b7bdf3-aa0d-4209-872e-cf61b8a42b7b",
   "metadata": {
    "tags": []
   },
   "outputs": [],
   "source": [
    "from scipy.stats import normaltest\n",
    "\n",
    "p_values_normality = df[FEATURES + [\"macroseason\"]].groupby(\"macroseason\").apply(\n",
    "    lambda x: pd.Series(\n",
    "        {FEATURES[i]: p for i, p in enumerate(normaltest(x)[-1])}\n",
    "    )\n",
    ")\n",
    "sns.heatmap(\n",
    "    p_values_normality, \n",
    "    annot=True\n",
    ")"
   ]
  },
  {
   "cell_type": "code",
   "execution_count": null,
   "id": "5810c402-f5b8-427d-b444-6103aff666d7",
   "metadata": {
    "tags": []
   },
   "outputs": [],
   "source": [
    "# Compute the correlation matrix\n",
    "corr = df[FEATURES].corr()\n",
    "sns.heatmap(\n",
    "    corr, \n",
    "    annot=True\n",
    ")"
   ]
  },
  {
   "cell_type": "code",
   "execution_count": null,
   "id": "81f7896b-5afe-4d28-8906-e67853bb42f5",
   "metadata": {
    "tags": []
   },
   "outputs": [],
   "source": [
    "from sklearn.model_selection import train_test_split\n",
    "from sklearn.metrics import classification_report\n",
    "from sklearn.metrics import ConfusionMatrixDisplay\n",
    "\n",
    "FEATURES = [\"face-v\", \"sin-face-h\"]\n",
    "train_df, test_df = train_test_split(df, test_size=0.3, random_state=42, stratify=df[\"macroseason\"], shuffle=True)\n",
    "np_train = train_df[FEATURES].values\n",
    "np_test = test_df[FEATURES].values"
   ]
  },
  {
   "cell_type": "code",
   "execution_count": null,
   "id": "e2157c0a-d0ad-458c-8c0c-aa0d8193ed6c",
   "metadata": {
    "tags": []
   },
   "outputs": [],
   "source": [
    "def evaluate_model(clf, train_df, test_df, label: str):\n",
    "    np_train = train_df[FEATURES].values\n",
    "    np_test = test_df[FEATURES].values\n",
    "    clf.fit(np_train, train_df[label])\n",
    "    print(\"Train report\")\n",
    "    train_pred = clf.predict(np_train)\n",
    "    print(classification_report(train_df[label], train_pred))\n",
    "    ConfusionMatrixDisplay.from_predictions(train_df[label], train_pred)\n",
    "    print(\"Test report\")\n",
    "    test_pred = clf.predict(np_test)\n",
    "    print(classification_report(test_df[label], test_pred))\n",
    "    ConfusionMatrixDisplay.from_predictions(test_df[label], test_pred)"
   ]
  },
  {
   "cell_type": "code",
   "execution_count": null,
   "id": "7bf19575-25cd-4e51-b180-32b24de60ace",
   "metadata": {},
   "outputs": [],
   "source": [
    "from sklearn.naive_bayes import GaussianNB\n",
    "\n",
    "gnb = GaussianNB()\n",
    "\n",
    "evaluate_model(gnb, train_df, test_df, \"macroseason\")"
   ]
  }
 ],
 "metadata": {
  "environment": {
   "kernel": "python3",
   "name": "common-cpu.m122",
   "type": "gcloud",
   "uri": "us-docker.pkg.dev/deeplearning-platform-release/gcr.io/base-cpu:m122"
  },
  "kernelspec": {
   "display_name": "Python 3 (Local)",
   "language": "python",
   "name": "python3"
  },
  "language_info": {
   "codemirror_mode": {
    "name": "ipython",
    "version": 3
   },
   "file_extension": ".py",
   "mimetype": "text/x-python",
   "name": "python",
   "nbconvert_exporter": "python",
   "pygments_lexer": "ipython3",
   "version": "3.10.14"
  }
 },
 "nbformat": 4,
 "nbformat_minor": 5
}
